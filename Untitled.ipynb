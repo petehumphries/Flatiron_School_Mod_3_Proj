{
 "cells": [
  {
   "cell_type": "markdown",
   "metadata": {},
   "source": [
    "### Imports"
   ]
  },
  {
   "cell_type": "code",
   "execution_count": 1,
   "metadata": {},
   "outputs": [],
   "source": [
    "import pandas as pd\n",
    "import seaborn as sns\n",
    "import numpy as np\n",
    "import matplotlib.pyplot as plt\n",
    "import plotly.express as px\n",
    "from numpy import mean\n",
    "from numpy import std\n",
    "import statsmodels.api as sm\n",
    "import math\n",
    "from scipy import stats\n",
    "from statsmodels.stats import weightstats as stests\n",
    "from statsmodels.formula.api import ols\n",
    "%matplotlib inline"
   ]
  },
  {
   "cell_type": "code",
   "execution_count": 2,
   "metadata": {},
   "outputs": [],
   "source": [
    "df_original = pd.read_csv(\"predicting_carbon_emissions.csv\")\n",
    "df = df_original.copy()"
   ]
  },
  {
   "cell_type": "markdown",
   "metadata": {},
   "source": [
    "### Cleaning"
   ]
  },
  {
   "cell_type": "code",
   "execution_count": 3,
   "metadata": {},
   "outputs": [],
   "source": [
    "pd.set_option('display.max_columns', None)\n",
    "df.columns = df.columns.str.strip().str.replace(' ', '_')\n",
    "df.columns = df.columns.str.strip().str.replace('(', '').str.replace(')', '')\n",
    "df = df.rename(columns = {'Carbon_Emission__tCO2e/mmUSD':'Carbon'})"
   ]
  },
  {
   "cell_type": "code",
   "execution_count": 4,
   "metadata": {},
   "outputs": [],
   "source": [
    "#drop columns\n",
    "columns_to_drop = ['Ticker', 'ISIN','Account_ID']\n",
    "df.drop(columns_to_drop, axis=1, inplace=True)"
   ]
  },
  {
   "cell_type": "code",
   "execution_count": 5,
   "metadata": {},
   "outputs": [],
   "source": [
    "# Dropping the Company Names with incomplete Carbon Info\n",
    "df = df[df[\"Company_Name\"] != 'Kathmandu Holdings']\n",
    "df = df[df[\"Company_Name\"] != 'Stephenson Harwood']\n",
    "df = df[df[\"Company_Name\"] != 'Nordic Semiconductor ASA']"
   ]
  },
  {
   "cell_type": "markdown",
   "metadata": {},
   "source": [
    "#### Creating Reported Scope Columns (can be changed into classes) and Revenue Column"
   ]
  },
  {
   "cell_type": "code",
   "execution_count": 6,
   "metadata": {},
   "outputs": [],
   "source": [
    "#change values in Reported Scope 1 column to not have , or -, then change to floats. replace null values with 0\n",
    "df[\"Reported_Scope_1_tCO2e\"] = df[\"Reported_Scope_1_tCO2e\"].str.strip().str.replace(',', '').str.replace('-','0').astype(float)\n",
    "df[\"Reported_Scope_1_tCO2e\"].fillna(0,inplace=True)"
   ]
  },
  {
   "cell_type": "code",
   "execution_count": 7,
   "metadata": {},
   "outputs": [],
   "source": [
    "#change values in Estimated Scope 1 column to not have , or -, then change to floats. replace null values with 0\n",
    "df[\"Estimated_Scope_1_tCO2e\"] = df[\"Estimated_Scope_1_tCO2e\"].astype(str).str.strip().str.replace(',', '').str.replace('-','0').astype(float)\n",
    "df[\"Estimated_Scope_1_tCO2e\"].fillna(0,inplace=True)"
   ]
  },
  {
   "cell_type": "code",
   "execution_count": 8,
   "metadata": {},
   "outputs": [],
   "source": [
    "#create column for scope\n",
    "df['Scope_1_tCO2e'] = df[\"Reported_Scope_1_tCO2e\"]+df[\"Estimated_Scope_1_tCO2e\"]"
   ]
  },
  {
   "cell_type": "code",
   "execution_count": 9,
   "metadata": {},
   "outputs": [],
   "source": [
    "#change values in Reported Scope 1 column to not have , or -, then change to floats. replace null values with 0\n",
    "df[\"Reported_location-based_Scope_2_tCO2e\"] = df[\"Reported_location-based_Scope_2_tCO2e\"].str.strip().str.replace(',', '').str.replace('-','0').astype(float)\n",
    "df[\"Reported_location-based_Scope_2_tCO2e\"].fillna(0,inplace=True)"
   ]
  },
  {
   "cell_type": "code",
   "execution_count": 10,
   "metadata": {},
   "outputs": [],
   "source": [
    "#change values in Estimated Scope 1 column to not have , or -, then change to floats. replace null values with 0\n",
    "df[\"Estimated_location-based_Scope_2_tCO2e\"] = df[\"Estimated_location-based_Scope_2_tCO2e\"].astype(str).str.strip().str.replace(',', '').str.replace('-','0').astype(float)\n",
    "df[\"Estimated_location-based_Scope_2_tCO2e\"].fillna(0,inplace=True)"
   ]
  },
  {
   "cell_type": "code",
   "execution_count": 11,
   "metadata": {},
   "outputs": [],
   "source": [
    "#create column for scope\n",
    "df['Scope_2_tCO2e'] = df[\"Reported_location-based_Scope_2_tCO2e\"]+df[\"Estimated_location-based_Scope_2_tCO2e\"]"
   ]
  },
  {
   "cell_type": "code",
   "execution_count": 12,
   "metadata": {},
   "outputs": [],
   "source": [
    "df['Scope_1_and_2_tCO2e'] = df[\"Scope_1_tCO2e\"]+df[\"Scope_2_tCO2e\"]"
   ]
  },
  {
   "cell_type": "code",
   "execution_count": 13,
   "metadata": {},
   "outputs": [],
   "source": [
    "df.drop(df[df[\"Carbon\"]==0].index, inplace = True)"
   ]
  },
  {
   "cell_type": "code",
   "execution_count": 14,
   "metadata": {},
   "outputs": [],
   "source": [
    "df[\"Revenue\"] = round((df['Scope_1_and_2_tCO2e'])/(df[\"Carbon\"]),3)"
   ]
  },
  {
   "cell_type": "markdown",
   "metadata": {},
   "source": [
    "#### Creating Dummy Columns with Binary of GICS Sectors"
   ]
  },
  {
   "cell_type": "code",
   "execution_count": 15,
   "metadata": {
    "scrolled": true
   },
   "outputs": [],
   "source": [
    "df = pd.concat([df,pd.get_dummies(df['GICS_Sector'])], axis=1)\n",
    "df.columns = df.columns.str.strip().str.replace(' ', '_')"
   ]
  },
  {
   "cell_type": "markdown",
   "metadata": {},
   "source": [
    "#### Removing Agencia de Proteccion Ambiental due to Nulls"
   ]
  },
  {
   "cell_type": "code",
   "execution_count": 16,
   "metadata": {},
   "outputs": [],
   "source": [
    "df.drop(df.index[0],inplace=True)"
   ]
  },
  {
   "cell_type": "code",
   "execution_count": 17,
   "metadata": {},
   "outputs": [],
   "source": [
    "df = df.dropna(subset=['Scope_2_figure_used_for_intensity'], how='any')"
   ]
  },
  {
   "cell_type": "code",
   "execution_count": 18,
   "metadata": {},
   "outputs": [],
   "source": [
    "df = df.dropna(subset = ['Location-based_Scope_2_source','Scope_1_source']).reset_index(drop=True)"
   ]
  },
  {
   "cell_type": "code",
   "execution_count": 19,
   "metadata": {},
   "outputs": [],
   "source": [
    "for i, row in df.iterrows():\n",
    "    if (\"Estimated\" in row[\"Scope_1_source\"]) and (\"Estimated\" in row[\"Location-based_Scope_2_source\"]):\n",
    "        df.loc[i,'Estimated_or_not'] = \"Estimated\"\n",
    "    elif (\"Reported\" in row[\"Scope_1_source\"]) and (\"Reported\" in row[\"Location-based_Scope_2_source\"]):\n",
    "        df.loc[i,'Estimated_or_not'] = \"Reported\"\n",
    "    else:\n",
    "        df.loc[i,'Estimated_or_not'] = \"Mixed\""
   ]
  },
  {
   "cell_type": "code",
   "execution_count": 20,
   "metadata": {},
   "outputs": [
    {
     "data": {
      "text/plain": [
       "Reported     2331\n",
       "Estimated    1398\n",
       "Mixed         138\n",
       "Name: Estimated_or_not, dtype: int64"
      ]
     },
     "execution_count": 20,
     "metadata": {},
     "output_type": "execute_result"
    }
   ],
   "source": [
    "df['Estimated_or_not'].value_counts()"
   ]
  },
  {
   "cell_type": "code",
   "execution_count": 21,
   "metadata": {},
   "outputs": [],
   "source": [
    "# df.to_csv(\"data_cleaned.csv\")"
   ]
  },
  {
   "cell_type": "code",
   "execution_count": 22,
   "metadata": {},
   "outputs": [
    {
     "name": "stdout",
     "output_type": "stream",
     "text": [
      "                    df        sum_sq       mean_sq            F         PR(>F)\n",
      "C(GICS_Sector)    10.0  2.926437e+09  2.926437e+08   100.230354  3.623010e-185\n",
      "Scope_1_tCO2e      1.0  3.765121e+09  3.765121e+09  1289.552451  7.055328e-244\n",
      "Residual        3855.0  1.125549e+10  2.919711e+06          NaN            NaN\n"
     ]
    }
   ],
   "source": [
    "formula = 'Carbon ~ C(GICS_Sector) + Scope_1_tCO2e'\n",
    "lm = ols(formula, df).fit()\n",
    "table = sm.stats.anova_lm(lm, typ=1)\n",
    "print(table)"
   ]
  },
  {
   "cell_type": "code",
   "execution_count": 23,
   "metadata": {},
   "outputs": [
    {
     "name": "stderr",
     "output_type": "stream",
     "text": [
      "/Users/ahilan/opt/anaconda3/envs/learn-env/lib/python3.6/site-packages/scipy/stats/stats.py:1713: FutureWarning:\n",
      "\n",
      "Using a non-tuple sequence for multidimensional indexing is deprecated; use `arr[tuple(seq)]` instead of `arr[seq]`. In the future this will be interpreted as an array index, `arr[np.array(seq)]`, which will result either in an error or a different result.\n",
      "\n"
     ]
    },
    {
     "data": {
      "text/plain": [
       "<matplotlib.axes._subplots.AxesSubplot at 0x1c1a744e48>"
      ]
     },
     "execution_count": 23,
     "metadata": {},
     "output_type": "execute_result"
    },
    {
     "data": {
      "image/png": "[encoded data removed]",
      "text/plain": [
       "<Figure size 1800x1152 with 1 Axes>"
      ]
     },
     "metadata": {
      "needs_background": "light"
     },
     "output_type": "display_data"
    }
   ],
   "source": [
    "plt.figure(figsize=(25,16))\n",
    "sns.distplot(df['Carbon'])"
   ]
  },
  {
   "cell_type": "code",
   "execution_count": 24,
   "metadata": {},
   "outputs": [
    {
     "data": {
      "text/html": [
       "<table class=\"simpletable\">\n",
       "<caption>OLS Regression Results</caption>\n",
       "<tr>\n",
       "  <th>Dep. Variable:</th>         <td>Carbon</td>      <th>  R-squared:         </th> <td>   0.164</td> \n",
       "</tr>\n",
       "<tr>\n",
       "  <th>Model:</th>                   <td>OLS</td>       <th>  Adj. R-squared:    </th> <td>   0.162</td> \n",
       "</tr>\n",
       "<tr>\n",
       "  <th>Method:</th>             <td>Least Squares</td>  <th>  F-statistic:       </th> <td>   68.93</td> \n",
       "</tr>\n",
       "<tr>\n",
       "  <th>Date:</th>             <td>Fri, 14 Feb 2020</td> <th>  Prob (F-statistic):</th> <td>1.71e-141</td>\n",
       "</tr>\n",
       "<tr>\n",
       "  <th>Time:</th>                 <td>09:55:17</td>     <th>  Log-Likelihood:    </th> <td> -34820.</td> \n",
       "</tr>\n",
       "<tr>\n",
       "  <th>No. Observations:</th>      <td>  3867</td>      <th>  AIC:               </th> <td>6.966e+04</td>\n",
       "</tr>\n",
       "<tr>\n",
       "  <th>Df Residuals:</th>          <td>  3855</td>      <th>  BIC:               </th> <td>6.974e+04</td>\n",
       "</tr>\n",
       "<tr>\n",
       "  <th>Df Model:</th>              <td>    11</td>      <th>                     </th>     <td> </td>    \n",
       "</tr>\n",
       "<tr>\n",
       "  <th>Covariance Type:</th>      <td>nonrobust</td>    <th>                     </th>     <td> </td>    \n",
       "</tr>\n",
       "</table>\n",
       "<table class=\"simpletable\">\n",
       "<tr>\n",
       "               <td></td>                 <th>coef</th>     <th>std err</th>      <th>t</th>      <th>P>|t|</th>  <th>[0.025</th>    <th>0.975]</th>  \n",
       "</tr>\n",
       "<tr>\n",
       "  <th>const</th>                      <td>  177.3123</td> <td>  143.601</td> <td>    1.235</td> <td> 0.217</td> <td> -104.229</td> <td>  458.854</td>\n",
       "</tr>\n",
       "<tr>\n",
       "  <th>HE_positiveindex</th>           <td>   -1.5138</td> <td>    0.618</td> <td>   -2.451</td> <td> 0.014</td> <td>   -2.725</td> <td>   -0.303</td>\n",
       "</tr>\n",
       "<tr>\n",
       "  <th>Energy</th>                     <td> 1242.5441</td> <td>  187.727</td> <td>    6.619</td> <td> 0.000</td> <td>  874.490</td> <td> 1610.598</td>\n",
       "</tr>\n",
       "<tr>\n",
       "  <th>Consumer_Discretionary</th>     <td>   33.0740</td> <td>  164.899</td> <td>    0.201</td> <td> 0.841</td> <td> -290.223</td> <td>  356.372</td>\n",
       "</tr>\n",
       "<tr>\n",
       "  <th>Industrials</th>                <td>  150.0385</td> <td>  161.725</td> <td>    0.928</td> <td> 0.354</td> <td> -167.035</td> <td>  467.112</td>\n",
       "</tr>\n",
       "<tr>\n",
       "  <th>Materials</th>                  <td> 1072.5812</td> <td>  169.955</td> <td>    6.311</td> <td> 0.000</td> <td>  739.371</td> <td> 1405.791</td>\n",
       "</tr>\n",
       "<tr>\n",
       "  <th>Consumer_Staples</th>           <td>  -14.8680</td> <td>  178.529</td> <td>   -0.083</td> <td> 0.934</td> <td> -364.889</td> <td>  335.153</td>\n",
       "</tr>\n",
       "<tr>\n",
       "  <th>Financials</th>                 <td>  -94.6099</td> <td>  169.815</td> <td>   -0.557</td> <td> 0.577</td> <td> -427.545</td> <td>  238.326</td>\n",
       "</tr>\n",
       "<tr>\n",
       "  <th>Utilities</th>                  <td> 3558.2796</td> <td>  197.672</td> <td>   18.001</td> <td> 0.000</td> <td> 3170.729</td> <td> 3945.830</td>\n",
       "</tr>\n",
       "<tr>\n",
       "  <th>Telecommunication_Services</th> <td>  -52.8259</td> <td>  241.280</td> <td>   -0.219</td> <td> 0.827</td> <td> -525.875</td> <td>  420.223</td>\n",
       "</tr>\n",
       "<tr>\n",
       "  <th>Information_Technology</th>     <td>  -37.8097</td> <td>  174.114</td> <td>   -0.217</td> <td> 0.828</td> <td> -379.174</td> <td>  303.554</td>\n",
       "</tr>\n",
       "<tr>\n",
       "  <th>Health_Care</th>                <td>   82.3303</td> <td>  198.876</td> <td>    0.414</td> <td> 0.679</td> <td> -307.582</td> <td>  472.242</td>\n",
       "</tr>\n",
       "</table>\n",
       "<table class=\"simpletable\">\n",
       "<tr>\n",
       "  <th>Omnibus:</th>       <td>7256.011</td> <th>  Durbin-Watson:     </th>   <td>   1.909</td>  \n",
       "</tr>\n",
       "<tr>\n",
       "  <th>Prob(Omnibus):</th>  <td> 0.000</td>  <th>  Jarque-Bera (JB):  </th> <td>15729216.603</td>\n",
       "</tr>\n",
       "<tr>\n",
       "  <th>Skew:</th>           <td>13.976</td>  <th>  Prob(JB):          </th>   <td>    0.00</td>  \n",
       "</tr>\n",
       "<tr>\n",
       "  <th>Kurtosis:</th>       <td>314.191</td> <th>  Cond. No.          </th>   <td>    948.</td>  \n",
       "</tr>\n",
       "</table><br/><br/>Warnings:<br/>[1] Standard Errors assume that the covariance matrix of the errors is correctly specified."
      ],
      "text/plain": [
       "<class 'statsmodels.iolib.summary.Summary'>\n",
       "\"\"\"\n",
       "                            OLS Regression Results                            \n",
       "==============================================================================\n",
       "Dep. Variable:                 Carbon   R-squared:                       0.164\n",
       "Model:                            OLS   Adj. R-squared:                  0.162\n",
       "Method:                 Least Squares   F-statistic:                     68.93\n",
       "Date:                Fri, 14 Feb 2020   Prob (F-statistic):          1.71e-141\n",
       "Time:                        09:55:17   Log-Likelihood:                -34820.\n",
       "No. Observations:                3867   AIC:                         6.966e+04\n",
       "Df Residuals:                    3855   BIC:                         6.974e+04\n",
       "Df Model:                          11                                         \n",
       "Covariance Type:            nonrobust                                         \n",
       "==============================================================================================\n",
       "                                 coef    std err          t      P>|t|      [0.025      0.975]\n",
       "----------------------------------------------------------------------------------------------\n",
       "const                        177.3123    143.601      1.235      0.217    -104.229     458.854\n",
       "HE_positiveindex              -1.5138      0.618     -2.451      0.014      -2.725      -0.303\n",
       "Energy                      1242.5441    187.727      6.619      0.000     874.490    1610.598\n",
       "Consumer_Discretionary        33.0740    164.899      0.201      0.841    -290.223     356.372\n",
       "Industrials                  150.0385    161.725      0.928      0.354    -167.035     467.112\n",
       "Materials                   1072.5812    169.955      6.311      0.000     739.371    1405.791\n",
       "Consumer_Staples             -14.8680    178.529     -0.083      0.934    -364.889     335.153\n",
       "Financials                   -94.6099    169.815     -0.557      0.577    -427.545     238.326\n",
       "Utilities                   3558.2796    197.672     18.001      0.000    3170.729    3945.830\n",
       "Telecommunication_Services   -52.8259    241.280     -0.219      0.827    -525.875     420.223\n",
       "Information_Technology       -37.8097    174.114     -0.217      0.828    -379.174     303.554\n",
       "Health_Care                   82.3303    198.876      0.414      0.679    -307.582     472.242\n",
       "==============================================================================\n",
       "Omnibus:                     7256.011   Durbin-Watson:                   1.909\n",
       "Prob(Omnibus):                  0.000   Jarque-Bera (JB):         15729216.603\n",
       "Skew:                          13.976   Prob(JB):                         0.00\n",
       "Kurtosis:                     314.191   Cond. No.                         948.\n",
       "==============================================================================\n",
       "\n",
       "Warnings:\n",
       "[1] Standard Errors assume that the covariance matrix of the errors is correctly specified.\n",
       "\"\"\""
      ]
     },
     "execution_count": 24,
     "metadata": {},
     "output_type": "execute_result"
    }
   ],
   "source": [
    "x1 = df[['HE_positiveindex', 'Energy', 'Consumer_Discretionary', 'Industrials', 'Materials',\n",
    "       'Consumer_Staples', 'Financials', 'Utilities','Telecommunication_Services', 'Information_Technology', \n",
    "        'Health_Care']]\n",
    "y1 = df['Carbon']\n",
    "X = sm.add_constant(x1)\n",
    "model_sm = sm.OLS(y1,X)\n",
    "results = model_sm.fit()\n",
    "results.summary()"
   ]
  },
  {
   "cell_type": "code",
   "execution_count": 25,
   "metadata": {},
   "outputs": [
    {
     "data": {
      "text/plain": [
       "Index(['Company_Name', 'Listed', 'HQ_Country', 'GICS_Sector',\n",
       "       'Accounting_Year_End', 'Reported_Scope_1_tCO2e',\n",
       "       'Estimated_Scope_1_tCO2e', 'Scope_1_source', 'Scope_1_quality_flag',\n",
       "       'Reported_market-based_Scope_2_tCO2e', 'Note',\n",
       "       'Reported_location-based_Scope_2_tCO2e',\n",
       "       'Estimated_location-based_Scope_2_tCO2e',\n",
       "       'Location-based_Scope_2_source', 'Location-based_Scope_2_quality_flag',\n",
       "       'Scope_2_company_comments', 'GHG_revenue_intensity_tCO2e/mmUSD',\n",
       "       'Scope_2_figure_used_for_intensity', 'amplification.wordsindex',\n",
       "       'DeAmplification.wordsindex', 'HE_negativeindex', 'HE_positiveindex',\n",
       "       'angerindex', 'anticipationindex', 'disgustindex', 'fearindex',\n",
       "       'joyindex', 'sadnessindex', 'surpriseindex', 'trustindex',\n",
       "       'LMnegativeindex', 'LMpositiveindex', 'LMuncertaintyindex',\n",
       "       'BasicNegativeWordsindex', 'PositivePolarisedindex',\n",
       "       'NegativePolarisedindex', 'PowerWordsindex', 'PrudentialNegativeindex',\n",
       "       'PrudentialPositiveindex', 'PrudentialTopNegativeindex',\n",
       "       'Strategyindex', 'Financial.termsindex', 'Regulationindex',\n",
       "       'Technologyindex', 'Healthcareindex', 'Environmentindex', 'Socialindex',\n",
       "       'Governanceindex', 'ESGindex', 'LMuncertaintyindex.1',\n",
       "       'Regulationindex.1', 'Environmentindex.1', 'Socialindex.1',\n",
       "       'Governanceindex.1', 'ESGindex.1', 'ISIN_lower', '2016vol', '2017vol',\n",
       "       '2018vol', '2019vol', 'VolFactor', 'Carbon', 'Scope_1_tCO2e',\n",
       "       'Scope_2_tCO2e', 'Scope_1_and_2_tCO2e', 'Revenue',\n",
       "       'Consumer_Discretionary', 'Consumer_Staples', 'Energy', 'Financials',\n",
       "       'Health_Care', 'Industrials', 'Information_Technology', 'Materials',\n",
       "       'Real_Estate', 'Telecommunication_Services', 'Utilities',\n",
       "       'Estimated_or_not'],\n",
       "      dtype='object')"
      ]
     },
     "execution_count": 25,
     "metadata": {},
     "output_type": "execute_result"
    }
   ],
   "source": [
    "df.columns"
   ]
  },
  {
   "cell_type": "code",
   "execution_count": 26,
   "metadata": {},
   "outputs": [
    {
     "data": {
      "text/html": [
       "<table class=\"simpletable\">\n",
       "<caption>OLS Regression Results</caption>\n",
       "<tr>\n",
       "  <th>Dep. Variable:</th>         <td>Carbon</td>      <th>  R-squared:         </th> <td>   0.164</td> \n",
       "</tr>\n",
       "<tr>\n",
       "  <th>Model:</th>                   <td>OLS</td>       <th>  Adj. R-squared:    </th> <td>   0.163</td> \n",
       "</tr>\n",
       "<tr>\n",
       "  <th>Method:</th>             <td>Least Squares</td>  <th>  F-statistic:       </th> <td>   151.5</td> \n",
       "</tr>\n",
       "<tr>\n",
       "  <th>Date:</th>             <td>Fri, 14 Feb 2020</td> <th>  Prob (F-statistic):</th> <td>2.84e-147</td>\n",
       "</tr>\n",
       "<tr>\n",
       "  <th>Time:</th>                 <td>09:55:17</td>     <th>  Log-Likelihood:    </th> <td> -34821.</td> \n",
       "</tr>\n",
       "<tr>\n",
       "  <th>No. Observations:</th>      <td>  3867</td>      <th>  AIC:               </th> <td>6.965e+04</td>\n",
       "</tr>\n",
       "<tr>\n",
       "  <th>Df Residuals:</th>          <td>  3861</td>      <th>  BIC:               </th> <td>6.969e+04</td>\n",
       "</tr>\n",
       "<tr>\n",
       "  <th>Df Model:</th>              <td>     5</td>      <th>                     </th>     <td> </td>    \n",
       "</tr>\n",
       "<tr>\n",
       "  <th>Covariance Type:</th>      <td>nonrobust</td>    <th>                     </th>     <td> </td>    \n",
       "</tr>\n",
       "</table>\n",
       "<table class=\"simpletable\">\n",
       "<tr>\n",
       "          <td></td>            <th>coef</th>     <th>std err</th>      <th>t</th>      <th>P>|t|</th>  <th>[0.025</th>    <th>0.975]</th>  \n",
       "</tr>\n",
       "<tr>\n",
       "  <th>const</th>            <td>  163.4475</td> <td>   46.927</td> <td>    3.483</td> <td> 0.001</td> <td>   71.444</td> <td>  255.451</td>\n",
       "</tr>\n",
       "<tr>\n",
       "  <th>HE_positiveindex</th> <td>   -1.5413</td> <td>    0.615</td> <td>   -2.505</td> <td> 0.012</td> <td>   -2.748</td> <td>   -0.335</td>\n",
       "</tr>\n",
       "<tr>\n",
       "  <th>Energy</th>           <td> 1257.3384</td> <td>  128.641</td> <td>    9.774</td> <td> 0.000</td> <td> 1005.127</td> <td> 1509.550</td>\n",
       "</tr>\n",
       "<tr>\n",
       "  <th>Industrials</th>      <td>  164.7818</td> <td>   86.524</td> <td>    1.904</td> <td> 0.057</td> <td>   -4.855</td> <td>  334.418</td>\n",
       "</tr>\n",
       "<tr>\n",
       "  <th>Materials</th>        <td> 1087.2389</td> <td>  101.178</td> <td>   10.746</td> <td> 0.000</td> <td>  888.872</td> <td> 1285.606</td>\n",
       "</tr>\n",
       "<tr>\n",
       "  <th>Utilities</th>        <td> 3572.9200</td> <td>  142.898</td> <td>   25.003</td> <td> 0.000</td> <td> 3292.757</td> <td> 3853.083</td>\n",
       "</tr>\n",
       "</table>\n",
       "<table class=\"simpletable\">\n",
       "<tr>\n",
       "  <th>Omnibus:</th>       <td>7258.303</td> <th>  Durbin-Watson:     </th>   <td>   1.909</td>  \n",
       "</tr>\n",
       "<tr>\n",
       "  <th>Prob(Omnibus):</th>  <td> 0.000</td>  <th>  Jarque-Bera (JB):  </th> <td>15752893.921</td>\n",
       "</tr>\n",
       "<tr>\n",
       "  <th>Skew:</th>           <td>13.986</td>  <th>  Prob(JB):          </th>   <td>    0.00</td>  \n",
       "</tr>\n",
       "<tr>\n",
       "  <th>Kurtosis:</th>       <td>314.425</td> <th>  Cond. No.          </th>   <td>    291.</td>  \n",
       "</tr>\n",
       "</table><br/><br/>Warnings:<br/>[1] Standard Errors assume that the covariance matrix of the errors is correctly specified."
      ],
      "text/plain": [
       "<class 'statsmodels.iolib.summary.Summary'>\n",
       "\"\"\"\n",
       "                            OLS Regression Results                            \n",
       "==============================================================================\n",
       "Dep. Variable:                 Carbon   R-squared:                       0.164\n",
       "Model:                            OLS   Adj. R-squared:                  0.163\n",
       "Method:                 Least Squares   F-statistic:                     151.5\n",
       "Date:                Fri, 14 Feb 2020   Prob (F-statistic):          2.84e-147\n",
       "Time:                        09:55:17   Log-Likelihood:                -34821.\n",
       "No. Observations:                3867   AIC:                         6.965e+04\n",
       "Df Residuals:                    3861   BIC:                         6.969e+04\n",
       "Df Model:                           5                                         \n",
       "Covariance Type:            nonrobust                                         \n",
       "====================================================================================\n",
       "                       coef    std err          t      P>|t|      [0.025      0.975]\n",
       "------------------------------------------------------------------------------------\n",
       "const              163.4475     46.927      3.483      0.001      71.444     255.451\n",
       "HE_positiveindex    -1.5413      0.615     -2.505      0.012      -2.748      -0.335\n",
       "Energy            1257.3384    128.641      9.774      0.000    1005.127    1509.550\n",
       "Industrials        164.7818     86.524      1.904      0.057      -4.855     334.418\n",
       "Materials         1087.2389    101.178     10.746      0.000     888.872    1285.606\n",
       "Utilities         3572.9200    142.898     25.003      0.000    3292.757    3853.083\n",
       "==============================================================================\n",
       "Omnibus:                     7258.303   Durbin-Watson:                   1.909\n",
       "Prob(Omnibus):                  0.000   Jarque-Bera (JB):         15752893.921\n",
       "Skew:                          13.986   Prob(JB):                         0.00\n",
       "Kurtosis:                     314.425   Cond. No.                         291.\n",
       "==============================================================================\n",
       "\n",
       "Warnings:\n",
       "[1] Standard Errors assume that the covariance matrix of the errors is correctly specified.\n",
       "\"\"\""
      ]
     },
     "execution_count": 26,
     "metadata": {},
     "output_type": "execute_result"
    }
   ],
   "source": [
    "x1 = df[['HE_positiveindex', 'Energy', 'Industrials', 'Materials', 'Utilities']]\n",
    "y1 = df['Carbon']\n",
    "X = sm.add_constant(x1)\n",
    "model_sm = sm.OLS(y1,X)\n",
    "results = model_sm.fit()\n",
    "results.summary()"
   ]
  },
  {
   "cell_type": "code",
   "execution_count": 27,
   "metadata": {},
   "outputs": [
    {
     "name": "stdout",
     "output_type": "stream",
     "text": [
      "<F test: F=array([[159.85957342]]), p=1.1381163199299183e-97, df_denom=3861, df_num=3>\n"
     ]
    }
   ],
   "source": [
    "hypotheses = '(Energy = Industrials = Materials = Utilities)'\n",
    "f_test = results.f_test(hypotheses)\n",
    "print(f_test)"
   ]
  },
  {
   "cell_type": "code",
   "execution_count": 28,
   "metadata": {},
   "outputs": [
    {
     "name": "stdout",
     "output_type": "stream",
     "text": [
      "                                  sum_sq      df           F        PR(>F)\n",
      "Energy                      1.672290e+08     1.0   42.930028  6.422860e-11\n",
      "Consumer_Discretionary      9.111049e+04     1.0    0.023389  8.784570e-01\n",
      "Industrials                 2.945234e+06     1.0    0.756083  3.846113e-01\n",
      "Materials                   1.536244e+08     1.0   39.437542  3.762932e-10\n",
      "Consumer_Staples            9.556233e+04     1.0    0.024532  8.755466e-01\n",
      "Financials                  1.931220e+06     1.0    0.495771  4.814066e-01\n",
      "Utilities                   1.258058e+09     1.0  322.961187  2.069657e-69\n",
      "Telecommunication_Services  3.708231e+05     1.0    0.095195  7.576899e-01\n",
      "Information_Technology      3.867916e+05     1.0    0.099295  7.526946e-01\n",
      "Health_Care                 3.121481e+05     1.0    0.080133  7.771328e-01\n",
      "Residual                    1.502061e+10  3856.0         NaN           NaN\n"
     ]
    }
   ],
   "source": [
    "formula = 'Carbon ~ Energy + Consumer_Discretionary + Industrials + Materials + Consumer_Staples + Financials + Utilities + Telecommunication_Services + Information_Technology + Health_Care'\n",
    "lm = ols(formula, df).fit()\n",
    "table = sm.stats.anova_lm(lm, typ=2)\n",
    "print(table)"
   ]
  },
  {
   "cell_type": "code",
   "execution_count": 29,
   "metadata": {},
   "outputs": [
    {
     "data": {
      "text/plain": [
       "<matplotlib.axes._subplots.AxesSubplot at 0x1c1a744208>"
      ]
     },
     "execution_count": 29,
     "metadata": {},
     "output_type": "execute_result"
    },
    {
     "data": {
      "image/png": "[encoded data removed]",
      "text/plain": [
       "<Figure size 2160x1224 with 1 Axes>"
      ]
     },
     "metadata": {
      "needs_background": "light"
     },
     "output_type": "display_data"
    }
   ],
   "source": [
    "plt.figure(figsize=(30,17))\n",
    "sns.boxplot(x = df[\"GICS_Sector\"], y = df[\"Carbon\"])"
   ]
  }
 ],
 "metadata": {
  "kernelspec": {
   "display_name": "Python 3",
   "language": "python",
   "name": "python3"
  },
  "language_info": {
   "codemirror_mode": {
    "name": "ipython",
    "version": 3
   },
   "file_extension": ".py",
   "mimetype": "text/x-python",
   "name": "python",
   "nbconvert_exporter": "python",
   "pygments_lexer": "ipython3",
   "version": "3.6.6"
  }
 },
 "nbformat": 4,
 "nbformat_minor": 4
}
